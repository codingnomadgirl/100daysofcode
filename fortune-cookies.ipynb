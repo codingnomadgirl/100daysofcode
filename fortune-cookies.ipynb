{
 "cells": [
  {
   "cell_type": "markdown",
   "metadata": {},
   "source": [
    "Fortune Cookies"
   ]
  },
  {
   "cell_type": "code",
   "execution_count": null,
   "metadata": {},
   "outputs": [],
   "source": [
    "import random\n",
    "\n",
    "lucky_number = random.randint(1,100)\n",
    "\n",
    "fortune_number = random.randint(1,3)\n",
    "\n",
    "fortune_text = \"\"\n",
    "\n",
    "if fortune_number == 1:\n",
    "  fortune_text = \"It's your lucky day!\"\n",
    "if fortune_number == 2:\n",
    "  fortune_text = \"You'll have a nice day!\"\n",
    "if fortune_number == 3:\n",
    "  fortune_text = \"You're going to win a lottery!\"\n",
    "\n",
    "\n",
    "print(f\"{fortune_text} Your lucky number is: {lucky_number}\")"
   ]
  }
 ],
 "metadata": {
  "kernelspec": {
   "display_name": "Python 3.10.8 64-bit",
   "language": "python",
   "name": "python3"
  },
  "language_info": {
   "codemirror_mode": {
    "name": "ipython",
    "version": 3
   },
   "file_extension": ".py",
   "mimetype": "text/x-python",
   "name": "python",
   "nbconvert_exporter": "python",
   "pygments_lexer": "ipython3",
   "version": "3.10.8"
  },
  "orig_nbformat": 4,
  "vscode": {
   "interpreter": {
    "hash": "aee8b7b246df8f9039afb4144a1f6fd8d2ca17a180786b69acc140d282b71a49"
   }
  }
 },
 "nbformat": 4,
 "nbformat_minor": 2
}
