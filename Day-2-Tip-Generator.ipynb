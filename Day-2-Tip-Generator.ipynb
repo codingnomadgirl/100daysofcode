{
 "cells": [
  {
   "cell_type": "markdown",
   "metadata": {},
   "source": [
    "Day 2 Tip Generator Version 2"
   ]
  },
  {
   "cell_type": "code",
   "execution_count": null,
   "metadata": {},
   "outputs": [],
   "source": [
    "print(\"Welcome to the tip calculator.\")\n",
    "total_bill = float(input(\"What was the total bill? $\"))\n",
    "no_of_ppl = int(input(\"How many people to split the bill? \"))\n",
    "tip = int(input(\"What percentage tip would you like to give? 10, 12 or 15? \"))\n",
    "\n",
    "tip10 = total_bill * 1.1\n",
    "tip12 = total_bill * 1.12\n",
    "tip15 = total_bill * 1.15\n",
    "\n",
    "result10 = tip10 / no_of_ppl\n",
    "result12 = tip12 / no_of_ppl\n",
    "result15 = tip15 / no_of_ppl\n",
    "\n",
    "if tip == 10:\n",
    "    tip10\n",
    "    print(\"Each person should pay: $\", \"{:.2f}\".format(result10))\n",
    "if tip == 12:\n",
    "    tip12\n",
    "    print(\"Each person should pay: $\", \" {:.2f}\".format(result12))\n",
    "\n",
    "if tip == 15:\n",
    "    tip15\n",
    "    print(\"Each person should pay: $\", \"{:.2f}\".format(result15))\n"
   ]
  },
  {
   "cell_type": "markdown",
   "metadata": {},
   "source": [
    "Version 1"
   ]
  },
  {
   "cell_type": "code",
   "execution_count": null,
   "metadata": {},
   "outputs": [],
   "source": [
    "print(\"Welcome to the tip calculator.\")\n",
    "total_bill = float(input(\"What was your total bill? $\"))\n",
    "tip = int(input(\"What percentage tip would you like to give: 10, 15, or 20? \"))\n",
    "guests = int(input(\"How many people to split the bill? \"))\n",
    "\n",
    "bill_with_tip = total_bill + tip/100*total_bill \n",
    "bill_per_person = round(bill_with_tip/guests, 2)\n",
    "\n",
    "print(f\"Each person should pay ${bill_per_person}.\")"
   ]
  }
 ],
 "metadata": {
  "kernelspec": {
   "display_name": "Python 3.10.8 64-bit",
   "language": "python",
   "name": "python3"
  },
  "language_info": {
   "name": "python",
   "version": "3.10.8"
  },
  "orig_nbformat": 4,
  "vscode": {
   "interpreter": {
    "hash": "aee8b7b246df8f9039afb4144a1f6fd8d2ca17a180786b69acc140d282b71a49"
   }
  }
 },
 "nbformat": 4,
 "nbformat_minor": 2
}
