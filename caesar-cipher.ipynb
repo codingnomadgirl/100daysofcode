{
 "cells": [
  {
   "cell_type": "markdown",
   "metadata": {},
   "source": [
    "Caesar Cipher #currently works only for words, not sentences"
   ]
  },
  {
   "cell_type": "code",
   "execution_count": null,
   "metadata": {},
   "outputs": [],
   "source": [
    "alphabet = ['a', 'b', 'c', 'd', 'e', 'f', 'g', 'h', 'i', 'j', 'k', 'l', 'm', 'n', 'o', 'p', 'q', 'r', 's', 't', 'u', 'v', 'w', 'x', 'y', 'z', 'a', 'b', 'c', 'd', 'e', 'f', 'g', 'h', 'i', 'j', 'k', 'l', 'm', 'n', 'o', 'p', 'q', 'r', 's', 't', 'u', 'v', 'w', 'x', 'y', 'z']\n",
    "\n",
    "direction = input(\"Type 'encode' to encrypt, type 'decode' to decrypt:\\n\")\n",
    "text = input(\"Type your message:\\n\").lower()\n",
    "shift = int(input(\"Type the shift number:\\n\"))\n",
    "\n",
    "\n",
    "def encrypt(plain_text, shift_amount):\n",
    "  text_letters = list(plain_text) # convert text into letters\n",
    "  word_length = len(text_letters) #length of the word for index\n",
    "  x = 0\n",
    "  encrypted_letters = []\n",
    "  # print(text_letters)\n",
    "  for x in range(0, word_length):\n",
    "      new_text_letter = alphabet[alphabet.index(text_letters[x]) + shift_amount]\n",
    "#     print(new_text_letter)\n",
    "      encrypted_letters += new_text_letter\n",
    "#     print(cipher_letters)\n",
    "  encrypted_text = ''.join(encrypted_letters)\n",
    "  print(f\"The encoded text is {encrypted_text}. \\n\")\n",
    "\n",
    "def decrypt(encoded_text, shift_backwards):\n",
    "  decrypted_text = \"\"\n",
    "  for letter in encoded_text:\n",
    "    position = int(alphabet.index(letter))\n",
    "    new_position = position - shift_backwards\n",
    "    decrypted_text += alphabet[new_position]\n",
    "  print(f\"The decrypted text is {decrypted_text}.\")\n",
    "\n",
    "\n",
    "if direction == \"encode\":\n",
    "  encrypt(plain_text = text, shift_amount = shift)\n",
    "  # option_to_decode = input(\"Would you like to decode? Type yes or no: \").lower()\n",
    "  # if option_to_decode == \"yes\":\n",
    "  #   decrypt(encoded_text = , shift_backwards)\n",
    "elif direction == \"decode\":\n",
    "  decrypt(encoded_text = text, shift_backwards = shift)\n",
    "\n",
    "\n",
    "\n",
    "\n",
    "\n",
    "    ##🐛Bug alert: What happens if you try to encode the word 'civilization'?🐛\n",
    "\n",
    "\n",
    "# Solution from the course: >>>>\n",
    "  # cipher_text = \"\"\n",
    "  # for letter in plain_text:\n",
    "  #   position = alphabet.index(letter)\n",
    "  #   new_position = position + shift_amount\n",
    "  #   new_letter = alphabet[new_position]\n",
    "  #   cipher_text += new_letter\n",
    "  # print(f\"The encoded text is {cipher_text}\")"
   ]
  }
 ],
 "metadata": {
  "kernelspec": {
   "display_name": "Python 3.10.8 64-bit",
   "language": "python",
   "name": "python3"
  },
  "language_info": {
   "codemirror_mode": {
    "name": "ipython",
    "version": 3
   },
   "file_extension": ".py",
   "mimetype": "text/x-python",
   "name": "python",
   "nbconvert_exporter": "python",
   "pygments_lexer": "ipython3",
   "version": "3.10.8"
  },
  "orig_nbformat": 4,
  "vscode": {
   "interpreter": {
    "hash": "aee8b7b246df8f9039afb4144a1f6fd8d2ca17a180786b69acc140d282b71a49"
   }
  }
 },
 "nbformat": 4,
 "nbformat_minor": 2
}
