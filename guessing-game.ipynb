{
 "cells": [
  {
   "cell_type": "markdown",
   "metadata": {},
   "source": [
    "Guessing Loop   "
   ]
  },
  {
   "cell_type": "code",
   "execution_count": null,
   "metadata": {},
   "outputs": [],
   "source": [
    "import random\n",
    "import time\n",
    "\n",
    "print(\n",
    "    \"hi! Welcome to the guessing game. I am going to pick a number between 1 and 100\"\n",
    ")\n",
    "time.sleep(3)\n",
    "print(\"I'm thinking ...\")\n",
    "time.sleep(2)\n",
    "guess = int(input(\"What is your guess? :\"))\n",
    "correct_number = random.randint(1, 100)\n",
    "guess_count = 1\n",
    "\n",
    "while guess != correct_number:\n",
    "    time.sleep(1)\n",
    "    guess_count += 1\n",
    "    if guess > correct_number:\n",
    "        guess = int(\n",
    "            input(\"Wrong. You need to guess lower. What is your guess? :\"))\n",
    "    else:\n",
    "        guess = int(\n",
    "            input(\"Wrong. You need to guess higher. What is your guess? :\"))\n",
    "\n",
    "print(\n",
    "    f\"Congrats! The correct answer was {correct_number}. It took you {guess_count} tries!\"\n",
    ")\n"
   ]
  }
 ],
 "metadata": {
  "kernelspec": {
   "display_name": "Python 3.10.8 64-bit",
   "language": "python",
   "name": "python3"
  },
  "language_info": {
   "codemirror_mode": {
    "name": "ipython",
    "version": 3
   },
   "file_extension": ".py",
   "mimetype": "text/x-python",
   "name": "python",
   "nbconvert_exporter": "python",
   "pygments_lexer": "ipython3",
   "version": "3.10.8"
  },
  "orig_nbformat": 4,
  "vscode": {
   "interpreter": {
    "hash": "aee8b7b246df8f9039afb4144a1f6fd8d2ca17a180786b69acc140d282b71a49"
   }
  }
 },
 "nbformat": 4,
 "nbformat_minor": 2
}
