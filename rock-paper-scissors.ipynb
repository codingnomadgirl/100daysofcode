{
 "cells": [
  {
   "cell_type": "markdown",
   "metadata": {},
   "source": [
    "Rock Paper Scissors"
   ]
  },
  {
   "cell_type": "code",
   "execution_count": null,
   "metadata": {},
   "outputs": [],
   "source": [
    "import random\n",
    "\n",
    "import time\n",
    "\n",
    "my_choice = int(input(\"What do you choose? Type 0 for Rock, 1 for Paper or 2 for Scissors.\\n\"))\n",
    "\n",
    "rock = '''\n",
    "    _______\n",
    "---'   ____)\n",
    "      (_____)\n",
    "      (_____)\n",
    "      (____)\n",
    "---.__(___)\n",
    "'''\n",
    "\n",
    "paper = '''\n",
    "    _______\n",
    "---'   ____)____\n",
    "          ______)\n",
    "          _______)\n",
    "         _______)\n",
    "---.__________)\n",
    "'''\n",
    "\n",
    "scissors = '''\n",
    "    _______\n",
    "---'   ____)____\n",
    "          ______)\n",
    "       __________)\n",
    "      (____)\n",
    "---.__(___)\n",
    "'''\n",
    "\n",
    "if my_choice == 0:\n",
    "  print(rock)\n",
    "elif my_choice == 1:\n",
    "  print(paper)\n",
    "elif my_choice == 2:\n",
    "  print(scissors)\n",
    "else:\n",
    "  print(\"Invalid Choice\")\n",
    "\n",
    "time.sleep(1)\n",
    "\n",
    "print(\"Computer chose:\\n\")\n",
    "\n",
    "computer_choice = random.randint(0,2)\n",
    "\n",
    "if computer_choice == 0:\n",
    "  print(rock)\n",
    "elif computer_choice == 1:\n",
    "  print(paper)\n",
    "elif computer_choice == 2:\n",
    "  print(scissors)\n",
    "\n",
    "# i need to create a map with 01,11,21 options and then map function 3x3 grid\n",
    "#  rock wins with scissors 02\n",
    "#  paper wins with rock 10 or 01\n",
    "#  scissors win with paper 21 or 12\n",
    "\n",
    "# if my_choice == computer_choice:\n",
    "#   print(\"It's a draw. Play again.\")\n",
    "\n",
    "combination_choice = str(my_choice) + str(computer_choice)\n",
    "\n",
    "# print(combination_choice)\n",
    "# first_digit = combination_choice[0]\n",
    "# second_digit = combination_choice[1]\n",
    "\n",
    "if combination_choice == \"00\" or combination_choice == \"11\" or combination_choice == \"22\":\n",
    "  print(\"It's a draw. Play again.\")\n",
    "elif combination_choice == \"01\" or combination_choice == \"12\" or combination_choice == \"20\":\n",
    "  print(\"You lose. Better luck next time!\")\n",
    "elif combination_choice == \"10\" or combination_choice == \"02\" or combination_choice == \"21\":\n",
    "  print(\"You win. Congratulations!\")\n",
    "else:\n",
    "  print(\"Try again.\")\n"
   ]
  }
 ],
 "metadata": {
  "kernelspec": {
   "display_name": "Python 3.10.8 64-bit",
   "language": "python",
   "name": "python3"
  },
  "language_info": {
   "codemirror_mode": {
    "name": "ipython",
    "version": 3
   },
   "file_extension": ".py",
   "mimetype": "text/x-python",
   "name": "python",
   "nbconvert_exporter": "python",
   "pygments_lexer": "ipython3",
   "version": "3.10.8"
  },
  "orig_nbformat": 4,
  "vscode": {
   "interpreter": {
    "hash": "aee8b7b246df8f9039afb4144a1f6fd8d2ca17a180786b69acc140d282b71a49"
   }
  }
 },
 "nbformat": 4,
 "nbformat_minor": 2
}
