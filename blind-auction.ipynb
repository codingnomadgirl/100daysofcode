{
 "cells": [
  {
   "cell_type": "markdown",
   "metadata": {},
   "source": [
    "Blind Auction"
   ]
  },
  {
   "cell_type": "code",
   "execution_count": 4,
   "metadata": {},
   "outputs": [],
   "source": [
    "logo = '''\n",
    "                         ___________\n",
    "                         \\         /\n",
    "                          )_______(\n",
    "                          |\"\"\"\"\"\"\"|_.-._,.---------.,_.-._\n",
    "                          |       | | |               | | ''-.\n",
    "                          |       |_| |_             _| |_..-'\n",
    "                          |_______| '-' `'---------'` '-'\n",
    "                          )\"\"\"\"\"\"\"(\n",
    "                         /_________\\\\\n",
    "                       .-------------.\n",
    "                      /_______________\\\\\n",
    "'''"
   ]
  },
  {
   "cell_type": "code",
   "execution_count": 5,
   "metadata": {},
   "outputs": [
    {
     "name": "stdout",
     "output_type": "stream",
     "text": [
      "\n",
      "                         ___________\n",
      "                         \\         /\n",
      "                          )_______(\n",
      "                          |\"\"\"\"\"\"\"|_.-._,.---------.,_.-._\n",
      "                          |       | | |               | | ''-.\n",
      "                          |       |_| |_             _| |_..-'\n",
      "                          |_______| '-' `'---------'` '-'\n",
      "                          )\"\"\"\"\"\"\"(\n",
      "                         /_________\\\n",
      "                       .-------------.\n",
      "                      /_______________\\\n",
      "\n",
      "Welcome to the secret auction program\n",
      "The winner is gia with a bid of $3.\n"
     ]
    }
   ],
   "source": [
    "#import clear\n",
    "#HINT: You can call clear() to clear the output in the console.\n",
    "\n",
    "print(logo)\n",
    "print(\"Welcome to the secret auction program\")\n",
    "other_players = True\n",
    "dict_of_players = {}\n",
    "\n",
    "while other_players:\n",
    "  name = input(\"What is your name? \")\n",
    "  bid = int(input(\"What is your bid? $\"))\n",
    "  dict_of_players[name] = bid\n",
    "  # how to add these names rather than replace them\n",
    "  others = input(\"Are there any other bidders? Type 'yes' or 'no'. \")\n",
    "  if others == \"yes\":\n",
    "    #clear()\n",
    "    other_players = True\n",
    "  else:\n",
    "    other_players = False\n",
    "    # finding the highest bid in dictionary\n",
    "    highest_bid = max(dict_of_players, key=dict_of_players.get)\n",
    "    winner_bid_amount = dict_of_players[highest_bid]\n",
    "    print(f\"The winner is {highest_bid} with a bid of ${winner_bid_amount}.\")\n",
    "\n",
    "    \n",
    "    \n",
    "    \n",
    "  \n",
    "    \n",
    "\n",
    "\n",
    "# if other_players:\n",
    "#   name = input(\"What is your name? \")\n",
    "#   bid = input(\"What is your bid? $\")\n",
    "#   list_of_players[\"Name\"] = name\n",
    "#   list_of_players[\"Bid\"] = bid\n",
    "#   print(list_of_players)\n",
    "#   others = input(\"Are there any other bidders? Type 'yes' or 'no'. \")\n",
    "#   if others == \"yes\":\n",
    "#     # clear()\n",
    "#     name = input(\"What is your name? \")\n",
    "#     bid = input(\"What is your bid? $\")\n",
    "#     list_of_players[name] = bid\n",
    "#     print(list_of_players)\n",
    "#   elif others == \"no\":\n",
    "#     print(f\"The winner is {name} with a bid of ${bid}.\")\n",
    "# else:\n",
    "#   print(f\"NOT NOT The winner is {name} with a bid of ${bid}.\")\n",
    "  \n",
    " #need to loop to check who is the winner and add the phrases/comparisons \n"
   ]
  }
 ],
 "metadata": {
  "kernelspec": {
   "display_name": "Python 3.10.8 64-bit",
   "language": "python",
   "name": "python3"
  },
  "language_info": {
   "codemirror_mode": {
    "name": "ipython",
    "version": 3
   },
   "file_extension": ".py",
   "mimetype": "text/x-python",
   "name": "python",
   "nbconvert_exporter": "python",
   "pygments_lexer": "ipython3",
   "version": "3.10.8"
  },
  "orig_nbformat": 4,
  "vscode": {
   "interpreter": {
    "hash": "aee8b7b246df8f9039afb4144a1f6fd8d2ca17a180786b69acc140d282b71a49"
   }
  }
 },
 "nbformat": 4,
 "nbformat_minor": 2
}
