{
 "cells": [
  {
   "cell_type": "markdown",
   "metadata": {},
   "source": [
    "PyPassword Generator   "
   ]
  },
  {
   "cell_type": "code",
   "execution_count": null,
   "metadata": {},
   "outputs": [],
   "source": [
    "import string, random\n",
    "\n",
    "print(\"Welcome to PyPassword Generator\")\n",
    "passw_letters = int(input(\"How many letters would you like in your password?\\n\"))\n",
    "\n",
    "combination = \"\"\n",
    "for letters in range(1, passw_letters + 1):\n",
    "  random_letters = random.choice(string.ascii_letters)\n",
    "  combination += random_letters \n",
    "\n",
    "\n",
    "passw_symbols = int(input(\"How many symbols would you like?\\n\"))\n",
    "\n",
    "combination1 = \"\"\n",
    "for symbols in range(1, passw_symbols + 1):\n",
    "  random_symbols = random.choice(string.punctuation)\n",
    "  combination1 += random_symbols\n",
    "\n",
    "\n",
    "passw_numbers = int(input(\"How many numbers would you like?\\n\"))\n",
    "\n",
    "combination2 = \"\"\n",
    "for numbers in range(1, passw_numbers + 1):\n",
    "  random_numbers = random.choice(string.digits)\n",
    "  combination2 += random_numbers\n",
    "\n",
    "l = combination + combination1 + combination2\n",
    "\n",
    "random_passw = random.sample(l,len(l))\n",
    "password = ''.join(random_passw)\n",
    "\n",
    "\n",
    "print(f\"Here's your password: {password}\")"
   ]
  }
 ],
 "metadata": {
  "kernelspec": {
   "display_name": "Python 3.10.8 64-bit",
   "language": "python",
   "name": "python3"
  },
  "language_info": {
   "codemirror_mode": {
    "name": "ipython",
    "version": 3
   },
   "file_extension": ".py",
   "mimetype": "text/x-python",
   "name": "python",
   "nbconvert_exporter": "python",
   "pygments_lexer": "ipython3",
   "version": "3.10.8"
  },
  "orig_nbformat": 4,
  "vscode": {
   "interpreter": {
    "hash": "aee8b7b246df8f9039afb4144a1f6fd8d2ca17a180786b69acc140d282b71a49"
   }
  }
 },
 "nbformat": 4,
 "nbformat_minor": 2
}
