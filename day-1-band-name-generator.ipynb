{
 "cells": [
  {
   "cell_type": "markdown",
   "metadata": {},
   "source": [
    "Day 1 Band Name Generator Task"
   ]
  },
  {
   "cell_type": "code",
   "execution_count": null,
   "metadata": {},
   "outputs": [],
   "source": [
    "import time\n",
    "\n",
    "print(\"Welcome to the Band Name Generator. I'll help you come up with a band name for you :) \")\n",
    "\n",
    "time.sleep(2)\n",
    "\n",
    "def generating_name():\n",
    "    city_name = input(\"What's the name of the city you grew up in? \\n\")\n",
    "    time.sleep(1)\n",
    "    pet_name = input(\"What's the name of your pet? \\n\")\n",
    "    print(\"I'm thinking...\")\n",
    "    time.sleep(2)\n",
    "    print(f\"Your band name could be '{city_name} {pet_name}'\")\n",
    "    new_user_l = input(\"Do you want to try again? Type 'yes': \")\n",
    "    new_user = new_user_l.lower()\n",
    "    if new_user == \"yes\":\n",
    "        generating_name()\n",
    "    else:\n",
    "        print(\"See you next time!\")\n",
    "\n",
    "generating_name()\n"
   ]
  }
 ],
 "metadata": {
  "kernelspec": {
   "display_name": "Python 3.10.8 64-bit",
   "language": "python",
   "name": "python3"
  },
  "language_info": {
   "codemirror_mode": {
    "name": "ipython",
    "version": 3
   },
   "file_extension": ".py",
   "mimetype": "text/x-python",
   "name": "python",
   "nbconvert_exporter": "python",
   "pygments_lexer": "ipython3",
   "version": "3.10.8"
  },
  "orig_nbformat": 4,
  "vscode": {
   "interpreter": {
    "hash": "aee8b7b246df8f9039afb4144a1f6fd8d2ca17a180786b69acc140d282b71a49"
   }
  }
 },
 "nbformat": 4,
 "nbformat_minor": 2
}
