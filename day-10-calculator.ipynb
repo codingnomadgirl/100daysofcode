{
 "cells": [
  {
   "cell_type": "markdown",
   "metadata": {},
   "source": [
    "Day 10 Calculator #work in progress"
   ]
  },
  {
   "cell_type": "code",
   "execution_count": null,
   "metadata": {},
   "outputs": [],
   "source": [
    "\n",
    "# print(logo)\n",
    "starting_point = True\n",
    "first_number = float(input(\"What's the first number?: \"))\n",
    "\n",
    "while starting_point:\n",
    "  operation = input(\" +\\n -\\n *\\n /\\nPick an operation: \")\n",
    "# how to add other possible options as invalid, e.g. if a person types a or %\n",
    "  second_number = float(input(\"What's the next number?: \"))\n",
    "\n",
    "# if first_number == \"\" or second_number == \"\":\n",
    "#   print(\"Please enter a number.\")\n",
    "# how to run this so the function would repeat \n",
    "  \n",
    "def calculate_result(first_number, second_number):\n",
    "  if operation == \"+\":\n",
    "    current_sum = first_number + second_number\n",
    "    return f\"{first_number} + {second_number} = {current_sum}\\n\" \n",
    "  elif operation == \"-\":\n",
    "    current_subtraction = first_number - second_number\n",
    "    return f\"{first_number} - {second_number} = {current_subtraction}\\n\" \n",
    "  elif operation == \"*\":\n",
    "    current_multiplication = first_number * second_number\n",
    "    return f\"{first_number} * {second_number} = {current_multiplication}\\n\" \n",
    "  elif operation == \"/\":\n",
    "    if second_number == 0:\n",
    "      print(\"Division by 0 is not possible.\")\n",
    "      # exlusion for division by 0\n",
    "    current_division = first_number / second_number\n",
    "    return f\"{first_number} / {second_number} = {current_division}\\n\" \n",
    "\n",
    "current_result = calculate_result(first_number, second_number)\n",
    "\n",
    "print(current_result)\n",
    "\n",
    "users_choice = input(f\"Type 'y' to continue calculating with {current_result}, or type 'n' to start a new calculation: \")\n",
    "\n",
    "# add ignore capital letters\n",
    "if users_choice == \"y\":\n",
    "  first_number = current_result\n",
    "  # is this correct or do I need to create a dictionary?\n",
    "  starting_point = True\n",
    "  # how to run it again? where to start while or function with True/False switch?\n",
    "elif users_choice == \"n\":\n",
    "  clear()\n",
    "  # how to start from scratch again\n",
    "  \n",
    "\n",
    "  \n",
    "\n",
    "      \n"
   ]
  }
 ],
 "metadata": {
  "kernelspec": {
   "display_name": "Python 3.10.8 64-bit",
   "language": "python",
   "name": "python3"
  },
  "language_info": {
   "name": "python",
   "version": "3.10.8"
  },
  "orig_nbformat": 4,
  "vscode": {
   "interpreter": {
    "hash": "aee8b7b246df8f9039afb4144a1f6fd8d2ca17a180786b69acc140d282b71a49"
   }
  }
 },
 "nbformat": 4,
 "nbformat_minor": 2
}
