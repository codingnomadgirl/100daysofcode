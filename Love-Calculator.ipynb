{
 "cells": [
  {
   "cell_type": "markdown",
   "metadata": {},
   "source": [
    "Love Calculator"
   ]
  },
  {
   "cell_type": "code",
   "execution_count": null,
   "metadata": {},
   "outputs": [],
   "source": [
    "\n",
    "print(\"Welcome to the Love Calculator! I will tell you if you are meant to be together! <3\")\n",
    "name1 = input(\"What is your name? \\n\")\n",
    "name2 = input(\"What is their name? \\n\")\n",
    "\n",
    "\n",
    "name1_lower = name1.lower()\n",
    "name2_lower = name2.lower()\n",
    "combined_name = name1_lower + name2_lower\n",
    "\n",
    "t = combined_name.count(\"t\")\n",
    "r = combined_name.count(\"r\")\n",
    "u = combined_name.count(\"u\")\n",
    "e = combined_name.count(\"e\")\n",
    "\n",
    "l = combined_name.count(\"l\") \n",
    "o = combined_name.count(\"o\")\n",
    "v = combined_name.count(\"v\")\n",
    "e = combined_name.count(\"e\")\n",
    "\n",
    "first_digit = t + r + u + e\n",
    "\n",
    "second_digit = l + o + v + e\n",
    "\n",
    "score = int(f\"{first_digit}{second_digit}\")\n",
    "\n",
    "if score > 90 or score < 10:\n",
    "    print(f\"Your score is {score}, you go together like coke and mentos.\")\n",
    "elif score < 50 and score > 40:\n",
    "    print(f\"Your score is {score}, you are alright together.\")\n",
    "else: \n",
    "    print(f\"Your score is {score}. Hmmm... You might want to reconsider.\")\n",
    "\n"
   ]
  }
 ],
 "metadata": {
  "kernelspec": {
   "display_name": "Python 3.10.8 64-bit",
   "language": "python",
   "name": "python3"
  },
  "language_info": {
   "codemirror_mode": {
    "name": "ipython",
    "version": 3
   },
   "file_extension": ".py",
   "mimetype": "text/x-python",
   "name": "python",
   "nbconvert_exporter": "python",
   "pygments_lexer": "ipython3",
   "version": "3.10.8"
  },
  "orig_nbformat": 4,
  "vscode": {
   "interpreter": {
    "hash": "aee8b7b246df8f9039afb4144a1f6fd8d2ca17a180786b69acc140d282b71a49"
   }
  }
 },
 "nbformat": 4,
 "nbformat_minor": 2
}
